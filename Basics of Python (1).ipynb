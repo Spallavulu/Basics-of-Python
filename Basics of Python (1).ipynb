{
 "cells": [
  {
   "cell_type": "code",
   "execution_count": 1,
   "id": "1a5448bb",
   "metadata": {},
   "outputs": [
    {
     "name": "stdout",
     "output_type": "stream",
     "text": [
      "110 is not a prime number.\n"
     ]
    }
   ],
   "source": [
    "# Excersise: 1 Prime Numbers\n",
    "def is_prime(n):\n",
    "  \n",
    "  if n <= 1:\n",
    "    return False\n",
    "\n",
    "  for i in range(2, int(n**0.5) + 1):\n",
    "    if n % i == 0:\n",
    "      return False\n",
    "\n",
    "  return True\n",
    "\n",
    "test_number = 110\n",
    "\n",
    "if is_prime(test_number):\n",
    "  print(f\"{test_number} is a prime number.\")\n",
    "else:\n",
    "  print(f\"{test_number} is not a prime number.\")\n"
   ]
  },
  {
   "cell_type": "code",
   "execution_count": 6,
   "id": "9da5b7f8",
   "metadata": {},
   "outputs": [
    {
     "name": "stdout",
     "output_type": "stream",
     "text": [
      "Enter a number:2\n",
      "Enter second number:3\n",
      "Enter the product:4\n",
      "Incorrect answer, program ends\n"
     ]
    }
   ],
   "source": [
    "#Excersie 2\n",
    "num1 = int(input('Enter a number:')) \n",
    "num2 = int(input('Enter second number:')) \n",
    "while True: \n",
    "    answer = int(input('Enter the product:')) \n",
    "    if answer == num1 * num2: \n",
    "        print('Correct answer, program ends') \n",
    "        break\n",
    "    else:\n",
    "        print('Incorrect answer, program ends')\n",
    "        break "
   ]
  },
  {
   "cell_type": "code",
   "execution_count": 17,
   "id": "97f6b048",
   "metadata": {},
   "outputs": [
    {
     "name": "stdout",
     "output_type": "stream",
     "text": [
      "10000\n",
      "10404\n",
      "10816\n",
      "11236\n",
      "11664\n",
      "12100\n",
      "12544\n",
      "12996\n",
      "13456\n",
      "13924\n",
      "14400\n",
      "14884\n",
      "15376\n",
      "15876\n",
      "16384\n",
      "16900\n",
      "17424\n",
      "17956\n",
      "18496\n",
      "19044\n",
      "19600\n",
      "20164\n",
      "20736\n",
      "21316\n",
      "21904\n",
      "22500\n",
      "23104\n",
      "23716\n",
      "24336\n",
      "24964\n",
      "25600\n",
      "26244\n",
      "26896\n",
      "27556\n",
      "28224\n",
      "28900\n",
      "29584\n",
      "30276\n",
      "30976\n",
      "31684\n",
      "32400\n",
      "33124\n",
      "33856\n",
      "34596\n",
      "35344\n",
      "36100\n",
      "36864\n",
      "37636\n",
      "38416\n",
      "39204\n",
      "40000\n"
     ]
    }
   ],
   "source": [
    "#Excersie 3\n",
    "#Even numbers\n",
    "for num in range(100, 201):\n",
    "    if num % 2 == 0:\n",
    "        print(num**2)"
   ]
  },
  {
   "cell_type": "code",
   "execution_count": 18,
   "id": "49adac30",
   "metadata": {},
   "outputs": [
    {
     "name": "stdout",
     "output_type": "stream",
     "text": [
      "10201\n",
      "10609\n",
      "11025\n",
      "11449\n",
      "11881\n",
      "12321\n",
      "12769\n",
      "13225\n",
      "13689\n",
      "14161\n",
      "14641\n",
      "15129\n",
      "15625\n",
      "16129\n",
      "16641\n",
      "17161\n",
      "17689\n",
      "18225\n",
      "18769\n",
      "19321\n",
      "19881\n",
      "20449\n",
      "21025\n",
      "21609\n",
      "22201\n",
      "22801\n",
      "23409\n",
      "24025\n",
      "24649\n",
      "25281\n",
      "25921\n",
      "26569\n",
      "27225\n",
      "27889\n",
      "28561\n",
      "29241\n",
      "29929\n",
      "30625\n",
      "31329\n",
      "32041\n",
      "32761\n",
      "33489\n",
      "34225\n",
      "34969\n",
      "35721\n",
      "36481\n",
      "37249\n",
      "38025\n",
      "38809\n",
      "39601\n"
     ]
    }
   ],
   "source": [
    "# Odd numbers\n",
    "for num in range(100, 201):\n",
    "    if num % 2 != 0:\n",
    "        print(num**2)"
   ]
  },
  {
   "cell_type": "code",
   "execution_count": 21,
   "id": "780410ad",
   "metadata": {},
   "outputs": [
    {
     "name": "stdout",
     "output_type": "stream",
     "text": [
      "{'This': 2, 'is': 1, 'a': 1, 'sample': 1, 'text': 2, '.': 1, 'will': 1, 'be': 1, 'used': 1, 'to': 1, 'demonstrare': 1, 'the': 1, 'word': 1, 'counter': 1}\n"
     ]
    }
   ],
   "source": [
    "#Excersise 4\n",
    "def word_count(str):    \n",
    "    counts = dict()\n",
    "    words = str.split()\n",
    "    for word in words:   \n",
    "        if word in counts:            \n",
    "            counts[word] += 1\n",
    "        else:           \n",
    "            counts[word] = 1\n",
    "    return counts\n",
    "\n",
    "print( word_count('This is a sample text . This text will be used to demonstrare the word counter'))"
   ]
  },
  {
   "cell_type": "code",
   "execution_count": 24,
   "id": "712c7ad4",
   "metadata": {},
   "outputs": [
    {
     "name": "stdout",
     "output_type": "stream",
     "text": [
      "Enter Word:racecar\n",
      "The Word is a palindrome\n"
     ]
    }
   ],
   "source": [
    "#Excersie 5\n",
    "string=input((\"Enter Word:\"))  \n",
    "if(string==string[::-1]):  \n",
    "      print(\"The Word is a palindrome\")  \n",
    "else:  \n",
    "      print(\"The Word is not a palindrome\")  "
   ]
  },
  {
   "cell_type": "code",
   "execution_count": null,
   "id": "31efbbca",
   "metadata": {},
   "outputs": [],
   "source": []
  }
 ],
 "metadata": {
  "kernelspec": {
   "display_name": "Python 3 (ipykernel)",
   "language": "python",
   "name": "python3"
  },
  "language_info": {
   "codemirror_mode": {
    "name": "ipython",
    "version": 3
   },
   "file_extension": ".py",
   "mimetype": "text/x-python",
   "name": "python",
   "nbconvert_exporter": "python",
   "pygments_lexer": "ipython3",
   "version": "3.11.7"
  }
 },
 "nbformat": 4,
 "nbformat_minor": 5
}
